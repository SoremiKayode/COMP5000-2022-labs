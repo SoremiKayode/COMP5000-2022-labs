{
  "nbformat": 4,
  "nbformat_minor": 0,
  "metadata": {
    "colab": {
      "provenance": [],
      "authorship_tag": "ABX9TyNkil0vGjJHNpM5osGU8EM1",
      "include_colab_link": true
    },
    "kernelspec": {
      "name": "python3",
      "display_name": "Python 3"
    },
    "language_info": {
      "name": "python"
    }
  },
  "cells": [
    {
      "cell_type": "markdown",
      "metadata": {
        "id": "view-in-github",
        "colab_type": "text"
      },
      "source": [
        "<a href=\"https://colab.research.google.com/github/SoremiKayode/COMP5000-2022-labs/blob/main/Spam_Ham_Email_Classification_Using_Logistic_Regression.ipynb\" target=\"_parent\"><img src=\"https://colab.research.google.com/assets/colab-badge.svg\" alt=\"Open In Colab\"/></a>"
      ]
    },
    {
      "cell_type": "markdown",
      "source": [
        "# **Spam/Ham Email Classification Using Logistic Regression**\n",
        "\n",
        "**Author:** Soremi Kayode\n",
        "**Date:** March 15, 2025  \n",
        "**GitHub:  [https://github.com/SoremiKayode/COMP5000-2022-labs/blob/main/Spam_Ham_Email_Classification_Using_Logistic_Regression.ipynb ](https://)\n",
        "\n",
        "## Project Overview\n",
        "This project demonstrates a logistic regression model to classify emails as **spam** (1) or **ham** (0) with **98% accuracy**. Using a dataset of labeled emails, we preprocess text data with TF-IDF vectorization, train a logistic regression model, and evaluate its performance with accuracy, precision, recall, F1-score, and a confusion matrix. Visualizations are included to enhance interpretability.\n",
        "\n",
        "## Objectives\n",
        "- Build a predictive model for email spam detection.\n",
        "- Achieve high accuracy using logistic regression.\n",
        "- Provide clear documentation and visualizations for portfolio purposes.\n",
        "\n",
        "## Dataset\n",
        "The dataset (`spam_ham_dataset.csv`) contains email text and labels:  \n",
        "- `text`: Email content  \n",
        "- `label_num`: 0 (ham) or 1 (spam)  "
      ],
      "metadata": {
        "id": "xD2qLKkHNwO2"
      }
    },
    {
      "cell_type": "markdown",
      "source": [
        "## 1. Import Libraries\n",
        "We start by importing essential Python libraries for data manipulation, modeling, and visualization."
      ],
      "metadata": {
        "id": "EUpslzmFOh9-"
      }
    },
    {
      "cell_type": "code",
      "source": [
        "import numpy as np\n",
        "import pandas as pd\n",
        "import matplotlib.pyplot as plt\n",
        "import seaborn as sns\n",
        "from sklearn.model_selection import train_test_split\n",
        "from sklearn.feature_extraction.text import TfidfVectorizer\n",
        "from sklearn.linear_model import LogisticRegression\n",
        "from sklearn.metrics import accuracy_score, classification_report, confusion_matrix"
      ],
      "metadata": {
        "id": "ve8n5uEaOcR9"
      },
      "execution_count": 3,
      "outputs": []
    },
    {
      "cell_type": "markdown",
      "source": [
        "## 2. Load and Explore the Dataset\n",
        "Load the dataset and inspect its structure."
      ],
      "metadata": {
        "id": "Ju2UyTeROnj9"
      }
    },
    {
      "cell_type": "code",
      "source": [
        "# Load dataset\n",
        "SH = pd.read_csv('spam_ham_dataset.csv')\n",
        "\n",
        "# Display first few rows\n",
        "SH.head()\n",
        "\n",
        "# Basic info\n",
        "print('Dataset Info:')\n",
        "print(SH.info())\n",
        "\n",
        "# Label distribution\n",
        "print('\\nLabel Distribution:')\n",
        "print(SH['label_num'].value_counts(normalize=True))"
      ],
      "metadata": {
        "colab": {
          "base_uri": "https://localhost:8080/"
        },
        "id": "9n6_4UcMOsDU",
        "outputId": "c3f6acaa-7b59-4e4b-96b8-f1714c2fbd14"
      },
      "execution_count": 4,
      "outputs": [
        {
          "output_type": "stream",
          "name": "stdout",
          "text": [
            "Dataset Info:\n",
            "<class 'pandas.core.frame.DataFrame'>\n",
            "RangeIndex: 5171 entries, 0 to 5170\n",
            "Data columns (total 4 columns):\n",
            " #   Column      Non-Null Count  Dtype \n",
            "---  ------      --------------  ----- \n",
            " 0   Unnamed: 0  5171 non-null   int64 \n",
            " 1   label       5171 non-null   object\n",
            " 2   text        5171 non-null   object\n",
            " 3   label_num   5171 non-null   int64 \n",
            "dtypes: int64(2), object(2)\n",
            "memory usage: 161.7+ KB\n",
            "None\n",
            "\n",
            "Label Distribution:\n",
            "label_num\n",
            "0    0.710114\n",
            "1    0.289886\n",
            "Name: proportion, dtype: float64\n"
          ]
        }
      ]
    },
    {
      "cell_type": "markdown",
      "source": [
        "## 3. Data Preprocessing\n",
        "Convert raw email text into numerical features using TF-IDF (Term Frequency-Inverse Document Frequency) vectorization."
      ],
      "metadata": {
        "id": "KAZ-Ip4QOxX9"
      }
    },
    {
      "cell_type": "code",
      "source": [
        "# Define features (X) and target (y)\n",
        "X = SH['text']\n",
        "y = SH['label_num']\n",
        "\n",
        "# Initialize TF-IDF Vectorizer\n",
        "tfidf = TfidfVectorizer(stop_words='english', max_features=5000)\n",
        "\n",
        "# Transform text data\n",
        "X_vectorized = tfidf.fit_transform(X)\n",
        "\n",
        "print(f'Vectorized data shape: {X_vectorized.shape}')"
      ],
      "metadata": {
        "colab": {
          "base_uri": "https://localhost:8080/"
        },
        "id": "wzHb0N-JO1Mz",
        "outputId": "c1220f38-93f5-48ab-eca8-5b0c5cbc9bf9"
      },
      "execution_count": 5,
      "outputs": [
        {
          "output_type": "stream",
          "name": "stdout",
          "text": [
            "Vectorized data shape: (5171, 5000)\n"
          ]
        }
      ]
    },
    {
      "cell_type": "markdown",
      "source": [
        "## 4. Train-Test Split\n",
        "Split the data into training (80%) and testing (20%) sets to evaluate model performance."
      ],
      "metadata": {
        "id": "-kVkY_h9O4U0"
      }
    },
    {
      "cell_type": "code",
      "source": [
        "X_train, X_test, y_train, y_test = train_test_split(X_vectorized, y, test_size=0.2, random_state=42)\n",
        "\n",
        "print(f'Training set size: {X_train.shape[0]}')\n",
        "print(f'Testing set size: {X_test.shape[0]}')"
      ],
      "metadata": {
        "colab": {
          "base_uri": "https://localhost:8080/"
        },
        "id": "pa_oB6JlO87U",
        "outputId": "e4864abe-0502-4892-94e3-bc5fdb033175"
      },
      "execution_count": 6,
      "outputs": [
        {
          "output_type": "stream",
          "name": "stdout",
          "text": [
            "Training set size: 4136\n",
            "Testing set size: 1035\n"
          ]
        }
      ]
    },
    {
      "cell_type": "markdown",
      "source": [
        "## 5. Model Training\n",
        "Train a logistic regression model on the vectorized training data."
      ],
      "metadata": {
        "id": "kxc3s1icPD9s"
      }
    },
    {
      "cell_type": "code",
      "source": [
        "# Initialize and train the model\n",
        "logistic_model = LogisticRegression(max_iter=1000)\n",
        "logistic_model.fit(X_train, y_train)\n",
        "\n",
        "print('Model training completed.')"
      ],
      "metadata": {
        "colab": {
          "base_uri": "https://localhost:8080/"
        },
        "id": "zsMRIspbPGyn",
        "outputId": "843af58c-9500-4aed-eb93-912da56704ac"
      },
      "execution_count": 7,
      "outputs": [
        {
          "output_type": "stream",
          "name": "stdout",
          "text": [
            "Model training completed.\n"
          ]
        }
      ]
    },
    {
      "cell_type": "markdown",
      "source": [
        "## 6. Model Evaluation\n",
        "Evaluate the model using accuracy, classification report, and confusion matrix."
      ],
      "metadata": {
        "id": "kPEMVI2ZPLnL"
      }
    },
    {
      "cell_type": "code",
      "source": [
        "# Make predictions\n",
        "y_pred = logistic_model.predict(X_test)\n",
        "\n",
        "# Calculate accuracy\n",
        "accuracy = accuracy_score(y_test, y_pred)\n",
        "print(f'Accuracy: {accuracy * 100:.2f}%')\n",
        "\n",
        "# Classification report\n",
        "print('\\nClassification Report:')\n",
        "print(classification_report(y_test, y_pred, target_names=['Ham', 'Spam']))\n",
        "\n",
        "# Confusion matrix\n",
        "cm = confusion_matrix(y_test, y_pred)\n",
        "print('\\nConfusion Matrix:')\n",
        "print(cm)"
      ],
      "metadata": {
        "colab": {
          "base_uri": "https://localhost:8080/"
        },
        "id": "4gQOfc14PK-1",
        "outputId": "7c55376f-6873-46a8-afd8-8f6588505f11"
      },
      "execution_count": 8,
      "outputs": [
        {
          "output_type": "stream",
          "name": "stdout",
          "text": [
            "Accuracy: 98.65%\n",
            "\n",
            "Classification Report:\n",
            "              precision    recall  f1-score   support\n",
            "\n",
            "         Ham       0.99      0.99      0.99       742\n",
            "        Spam       0.97      0.98      0.98       293\n",
            "\n",
            "    accuracy                           0.99      1035\n",
            "   macro avg       0.98      0.98      0.98      1035\n",
            "weighted avg       0.99      0.99      0.99      1035\n",
            "\n",
            "\n",
            "Confusion Matrix:\n",
            "[[734   8]\n",
            " [  6 287]]\n"
          ]
        }
      ]
    },
    {
      "cell_type": "markdown",
      "source": [
        "## 7. Visualizations\n",
        "Visualize the confusion matrix and label distribution for better interpretability."
      ],
      "metadata": {
        "id": "29tLwJ9ZPRZ8"
      }
    },
    {
      "cell_type": "code",
      "source": [
        "# Confusion Matrix Heatmap\n",
        "plt.figure(figsize=(8, 6))\n",
        "sns.heatmap(cm, annot=True, fmt='d', cmap='Blues', xticklabels=['Ham', 'Spam'], yticklabels=['Ham', 'Spam'])\n",
        "plt.title('Confusion Matrix')\n",
        "plt.xlabel('Predicted')\n",
        "plt.ylabel('Actual')\n",
        "plt.show()\n",
        "\n",
        "# Label Distribution Bar Plot\n",
        "plt.figure(figsize=(6, 4))\n",
        "SH['label_num'].value_counts().plot(kind='bar', color=['skyblue', 'salmon'])\n",
        "plt.title('Label Distribution (Ham vs Spam)')\n",
        "plt.xticks([0, 1], ['Ham', 'Spam'], rotation=0)\n",
        "plt.xlabel('Label')\n",
        "plt.ylabel('Count')\n",
        "plt.show()"
      ],
      "metadata": {
        "colab": {
          "base_uri": "https://localhost:8080/",
          "height": 957
        },
        "id": "bCbp0o6bPTrE",
        "outputId": "25faae2c-9cf6-42b9-96de-ff6c768c4fd8"
      },
      "execution_count": 9,
      "outputs": [
        {
          "output_type": "display_data",
          "data": {
            "text/plain": [
              "<Figure size 800x600 with 2 Axes>"
            ],
            "image/png": "[encoded data removed]"
          },
          "metadata": {}
        },
        {
          "output_type": "display_data",
          "data": {
            "text/plain": [
              "<Figure size 600x400 with 1 Axes>"
            ],
            "image/png": "[encoded data removed]"
          },
          "metadata": {}
        }
      ]
    },
    {
      "cell_type": "markdown",
      "source": [
        "## 8. Results Interpretation\n",
        "\n",
        "### Confusion Matrix Breakdown\n",
        "- **True Negatives (TN):** 734 (Ham correctly predicted as Ham)\n",
        "- **True Positives (TP):** 287 (Spam correctly predicted as Spam)\n",
        "- **False Positives (FP):** 8 (Ham incorrectly predicted as Spam)\n",
        "- **False Negatives (FN):** 6 (Spam incorrectly predicted as Ham)\n",
        "\n",
        "### Key Metrics\n",
        "- **Precision (Ham):** 0.99 – 99% of predicted Ham emails are correct.\n",
        "- **Precision (Spam):** 0.97 – 97% of predicted Spam emails are correct.\n",
        "- **F1-Score (Ham):** 0.99 – Strong balance of precision and recall.\n",
        "- **F1-Score (Spam):** 0.98 – Excellent performance for spam detection.\n",
        "- **Accuracy:** 98.65% – Overall, 99% of predictions are correct.\n",
        "\n",
        "The model excels at distinguishing spam from ham, with minimal misclassifications."
      ],
      "metadata": {
        "id": "8UV9sqVUPXRt"
      }
    },
    {
      "cell_type": "markdown",
      "source": [
        "## 9. Conclusion\n",
        "This logistic regression model achieves **98.65% accuracy** in classifying emails as spam or ham, leveraging TF-IDF vectorization and a clean, efficient pipeline. It’s well-suited for real-world email filtering applications. Future improvements could include hyperparameter tuning (e.g., regularization) or experimenting with advanced models like SVM or neural networks.\n",
        "\n",
        "Feel free to explore the code and adapt it for your needs! For questions, reach out via"
      ],
      "metadata": {
        "id": "ED18itCzPkdF"
      }
    }
  ]
}