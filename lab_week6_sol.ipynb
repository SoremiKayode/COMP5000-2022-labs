{
 "cells": [
  {
   "cell_type": "markdown",
   "id": "8c5f9f59",
   "metadata": {},
   "source": [
    "# Computer Lab Exercises week 6 (SOLUTIONS)"
   ]
  },
  {
   "cell_type": "markdown",
   "id": "b3f4f1ea",
   "metadata": {},
   "source": [
    "* These lab exercises are designed to introduce the basic sy\n",
    "* A screencast on downloading jupyter notebooks from the online store.\n",
    "https://youtu.be/1zY7hIj5tWg\n",
    "* These exercises are **not** part of the assessment of the Module.\n",
    "* I will post the solutions roughly 1 week after this file has been uploaded to the DLE.\n",
    "* Please first watch and work through the linkedin learning video\n",
    "* Please note that pasting python from pdf can sometimes cause problems. For example quotation marks can sometimes be converted incorrectly, so then running python will cause errors.\n",
    "\n",
    "* See https://sites.google.com/view/pythonforstemstudents/home for a collection\n",
    "of links to information on python.\n"
   ]
  },
  {
   "cell_type": "markdown",
   "id": "1651e2f2",
   "metadata": {},
   "source": [
    "## Question 1  Questions about SQL\n",
    "\n",
    "Thare is a list of SQL commands at https://www.w3schools.com/sql/sql_syntax.asp.\n",
    "\n",
    "I also suggest you use  the command line program\n",
    "https://sqlite.org/cli.html, if it is installed, to run\n",
    "some of the SQL commands."
   ]
  },
  {
   "cell_type": "markdown",
   "id": "87b28ff0",
   "metadata": {},
   "source": [
    "##  Question 1b) \n"
   ]
  },
  {
   "cell_type": "markdown",
   "id": "87e2b291",
   "metadata": {},
   "source": [
    "Download the SQLite file from **SimpleFolks for Simple SQL**\n",
    "http://2016.padjo.org/files/data/starterpack/simplefolks.sqlite\n",
    "\n",
    "You can read more about the dataset at http://2016.padjo.org/tutorials/sql-simplefolks-select-from/\n",
    "\n",
    "The above database has the following tables:\n",
    "homes, inmates, people, pets and politicians.\n",
    "The people database has the column names: \n",
    "name, sex and age.\n",
    "\n",
    "Use SQL via python to answer the following questions.\n",
    "\n",
    "\n",
    "* Find all the names in the people table.\n",
    "* Find all the names in the people table, for the people younger than 30 years old.\n",
    "* Find all the names of the men in the people table.\n",
    "* Find the average age of the people in the people table.\n",
    "* Find the table names from the database file.\n"
   ]
  },
  {
   "cell_type": "code",
   "execution_count": null,
   "id": "af2144f8",
   "metadata": {},
   "outputs": [],
   "source": [
    "import sqlite3\n",
    "connection = sqlite3.connect(\"simplefolks.sqlite\")\n",
    "cursor = connection.cursor()\n",
    "\n",
    "# you can change the SQL command\n",
    "cursor.execute(\"SELECT * FROM people\") \n",
    "print(\"List the content of the people table\")\n",
    "result = cursor.fetchall() \n",
    "for r in result:\n",
    "    print(r)\n"
   ]
  },
  {
   "cell_type": "code",
   "execution_count": null,
   "id": "97ae5df0",
   "metadata": {},
   "outputs": [],
   "source": [
    "#  Put your solutions here\n",
    "\n",
    "import sqlite3\n",
    "\n",
    "connection = sqlite3.connect(\"simplefolks.sqlite\")\n",
    "cursor = connection.cursor()\n",
    "\n",
    "##################################################\n",
    "cursor.execute(\"SELECT name FROM people\") \n",
    "print(\"List of all the  names\")\n",
    "result = cursor.fetchall() \n",
    "for r in result:\n",
    "    print(r[0])\n",
    "\n",
    "\n",
    "##################################################\n",
    "cursor.execute(\"SELECT name FROM people where age < 30\") \n",
    "print(\"List of all the  names under 30\")\n",
    "result = cursor.fetchall() \n",
    "for r in result:\n",
    "    print(r[0])\n",
    "\n",
    "##################################################\n",
    "cursor.execute(\"SELECT name FROM people where sex='M' \") \n",
    "print(\"List of males\")\n",
    "result = cursor.fetchall() \n",
    "for r in result:\n",
    "    print(r[0])\n",
    "\n",
    "\n",
    "##################################################\n",
    "cursor.execute(\"SELECT Avg(Age) FROM people\") \n",
    "result = cursor.fetchall() \n",
    "print(\"Average age = \", result)\n",
    "\n",
    "##################################################\n",
    "## https://stackoverflow.com/questions/34570260/how-to-get-table-names-using-sqlite3-through-python/34570549\n",
    "cursor.execute(\"SELECT name FROM sqlite_master WHERE type='table';\") \n",
    "result = cursor.fetchall() \n",
    "\n",
    "print(\"The table names in the database\")\n",
    "for r in result:\n",
    "    print(r[0])\n",
    "\n",
    "\n"
   ]
  },
  {
   "cell_type": "markdown",
   "id": "3412349f",
   "metadata": {},
   "source": [
    "##  Question 2: SQL and python\n",
    "\n",
    "\n",
    "We have been using python to run SQL \n",
    "queries from a SQLite database. However,\n",
    "we have used a separate python script for\n",
    "each query. It would be better to ask the\n",
    "user for the SQL query."
   ]
  },
  {
   "cell_type": "code",
   "execution_count": 3,
   "id": "e04873ea",
   "metadata": {},
   "outputs": [
    {
     "name": "stdout",
     "output_type": "stream",
     "text": [
      "Input SQL commandff\n",
      "Executing  ff\n"
     ]
    }
   ],
   "source": [
    "sql_ = input(\"Input SQL command\")\n",
    "print(\"Executing \", sql_)"
   ]
  },
  {
   "cell_type": "markdown",
   "id": "86c28a69",
   "metadata": {},
   "source": [
    "Modify the cell above so the user can input an abrbitary SQL statement \n",
    "on the simplefolks.sqlite database.\n",
    "Also include exception handling\n",
    "to check for errors.\n",
    "\n",
    "\n",
    "\n",
    "Please read about SQL injection attacks at\n",
    "https://www.tutlane.com/tutorial/sqlite/sqlite-injection-attacks.\n",
    "This is just for information."
   ]
  },
  {
   "cell_type": "code",
   "execution_count": null,
   "id": "aec1718c",
   "metadata": {},
   "outputs": [],
   "source": [
    "# put your solution here"
   ]
  },
  {
   "cell_type": "code",
   "execution_count": 2,
   "id": "4aaa78ad",
   "metadata": {},
   "outputs": [
    {
     "name": "stdout",
     "output_type": "stream",
     "text": [
      "Input SQL commandselect * from pope\n",
      "Executing  select * from pope\n",
      "Erroor with  select * from pope\n",
      "Results from  select * from pope\n"
     ]
    }
   ],
   "source": [
    "# put your solution here\n",
    "\n",
    "import sqlite3\n",
    "connection = sqlite3.connect(\"simplefolks.sqlite\")\n",
    "cursor = connection.cursor()\n",
    "\n",
    "sql_ = input(\"Input SQL command\")\n",
    "print(\"Executing \", sql_)\n",
    "\n",
    "# you can change the SQL command\n",
    "try:\n",
    "  cursor.execute(sql_) \n",
    "except:\n",
    "    print(\"Error with \" , sql_)\n",
    "\n",
    "\n",
    "print(\"Results from \", sql_)\n",
    "result = cursor.fetchall() \n",
    "for r in result:\n",
    "    print(r)"
   ]
  },
  {
   "cell_type": "markdown",
   "id": "d7d088cf",
   "metadata": {},
   "source": [
    "##  Question 3, plotting the data from a database"
   ]
  },
  {
   "cell_type": "code",
   "execution_count": 18,
   "id": "b7d7db3b",
   "metadata": {},
   "outputs": [
    {
     "data": {
      "image/png": "[encoded data removed]",
      "text/plain": [
       "<Figure size 432x288 with 1 Axes>"
      ]
     },
     "metadata": {
      "needs_background": "light"
     },
     "output_type": "display_data"
    }
   ],
   "source": [
    "import sqlite3\n",
    "import matplotlib.pyplot as plt\n",
    "\n",
    "connection = sqlite3.connect(\"simplefolks.sqlite\")\n",
    "cursor = connection.cursor()\n",
    "\n",
    "cursor.execute(\"SELECT age FROM people where sex='M' \") \n",
    "result = cursor.fetchall() \n",
    "male_age = []\n",
    "for r in result:\n",
    "    male_age.append(r[0])\n",
    "\n",
    "cursor.execute(\"SELECT age FROM people where sex='F' \") \n",
    "result = cursor.fetchall() \n",
    "female_age = []\n",
    "for r in result:\n",
    "    female_age.append(r[0])\n",
    "\n",
    "\n",
    "    \n",
    "plt.hist(male_age, label=\"Male\")\n",
    "plt.hist(female_age, label=\"Male\")\n",
    "plt.xlabel(\"Age years\")\n",
    "plt.legend()\n",
    "plt.show()"
   ]
  },
  {
   "cell_type": "code",
   "execution_count": null,
   "id": "1541d422",
   "metadata": {},
   "outputs": [],
   "source": []
  }
 ],
 "metadata": {
  "kernelspec": {
   "display_name": "Python 3 (ipykernel)",
   "language": "python",
   "name": "python3"
  },
  "language_info": {
   "codemirror_mode": {
    "name": "ipython",
    "version": 3
   },
   "file_extension": ".py",
   "mimetype": "text/x-python",
   "name": "python",
   "nbconvert_exporter": "python",
   "pygments_lexer": "ipython3",
   "version": "3.10.0"
  }
 },
 "nbformat": 4,
 "nbformat_minor": 5
}
